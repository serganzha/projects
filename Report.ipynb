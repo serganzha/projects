{
 "cells": [
  {
   "cell_type": "code",
   "execution_count": 1,
   "metadata": {
    "id": "h0LVvvnfJsg5"
   },
   "outputs": [],
   "source": [
    "import pandas as pd\n",
    "\n",
    "df = pd.read_csv(\"balance.txt\", delim_whitespace=True)"
   ]
  },
  {
   "cell_type": "code",
   "execution_count": 2,
   "metadata": {
    "id": "rv2oLRnPK36J"
   },
   "outputs": [
    {
     "name": "stdout",
     "output_type": "stream",
     "text": [
      "Average Income by Ethnicity:\n",
      " Ethnicity\n",
      "African American    47.682101\n",
      "Asian               44.187833\n",
      "Caucasian           44.521945\n",
      "Name: Income, dtype: float64\n"
     ]
    }
   ],
   "source": [
    "ethn_inc_mean = df.groupby(\"Ethnicity\")[\"Income\"].mean()\n",
    "print(\"Average Income by Ethnicity:\\n\", ethn_inc_mean)"
   ]
  },
  {
   "cell_type": "code",
   "execution_count": 3,
   "metadata": {},
   "outputs": [
    {
     "name": "stdout",
     "output_type": "stream",
     "text": [
      "Average Balance by Marital Status:\n",
      " Married\n",
      "No     13.493509\n",
      "Yes    13.388473\n",
      "Name: Balance, dtype: float64\n"
     ]
    }
   ],
   "source": [
    "marital_balance = df.groupby(\"Married\")[\"Balance\"].mean()\n",
    "print(\"Average Balance by Marital Status:\\n\", marital_balance)"
   ]
  },
  {
   "cell_type": "code",
   "execution_count": 4,
   "metadata": {},
   "outputs": [
    {
     "name": "stdout",
     "output_type": "stream",
     "text": [
      "Highest Income:  186.634\n",
      "Lowest Income:  10.354\n"
     ]
    }
   ],
   "source": [
    "highest_income = df[\"Income\"].max()\n",
    "lowest_income = df[\"Income\"].min()\n",
    "print(\"Highest Income: \", highest_income)\n",
    "print(\"Lowest Income: \", lowest_income)"
   ]
  },
  {
   "cell_type": "code",
   "execution_count": 5,
   "metadata": {},
   "outputs": [
    {
     "name": "stdout",
     "output_type": "stream",
     "text": [
      "Total Cards:  1183\n"
     ]
    }
   ],
   "source": [
    "total_cards = df[\"Cards\"].sum()\n",
    "print(\"Total Cards: \", total_cards)"
   ]
  },
  {
   "cell_type": "code",
   "execution_count": 6,
   "metadata": {},
   "outputs": [
    {
     "name": "stdout",
     "output_type": "stream",
     "text": [
      "Number of Females:  207\n",
      "Number of Males:  193\n"
     ]
    }
   ],
   "source": [
    "num_females = df[df[\"Gender\"] == \"Female\"][\"Gender\"].count()\n",
    "num_males = df[df[\"Gender\"] == \"Male\"][\"Gender\"].count()\n",
    "print(\"Number of Females: \", num_females)\n",
    "print(\"Number of Males: \", num_males)"
   ]
  },
  {
   "cell_type": "code",
   "execution_count": null,
   "metadata": {},
   "outputs": [],
   "source": []
  }
 ],
 "metadata": {
  "colab": {
   "authorship_tag": "ABX9TyP5J3xG1JXUCQAkP9OLQqdU",
   "provenance": []
  },
  "kernelspec": {
   "display_name": "Python 3 (ipykernel)",
   "language": "python",
   "name": "python3"
  },
  "language_info": {
   "codemirror_mode": {
    "name": "ipython",
    "version": 3
   },
   "file_extension": ".py",
   "mimetype": "text/x-python",
   "name": "python",
   "nbconvert_exporter": "python",
   "pygments_lexer": "ipython3",
   "version": "3.10.9"
  }
 },
 "nbformat": 4,
 "nbformat_minor": 1
}
